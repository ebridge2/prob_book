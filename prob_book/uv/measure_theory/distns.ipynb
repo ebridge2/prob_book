{
 "cells": [
  {
   "cell_type": "markdown",
   "id": "hybrid-summer",
   "metadata": {},
   "source": [
    "(uv:mt:distns)=\n",
    "\n",
    "# Distribution Functions\n",
    "\n",
    "So, now we have these concepts called random variables, which are really just measurable functions on a particular domain with respect to some codomain. We can perform all of the traditional mathematical operations with random variables, and still obtain random variables. What else do we need as far as machinery goes? We need to link these random variables to probabilities. This happens via the distribution function.\n",
    "\n",
    "## Inducing distribution functions\n",
    "\n",
    "Now that we have random variables (measurable functions), if the domain is a probability space, we can use the definition of a random variable to deduce that it is certainly the case that for any set in the codomain, the preimage of the set in the codomain is in the $\\sigma$-algebra of the corresponding probability space. Since this set is in the $\\sigma$-algebra of the probability space, we can assign a probability to that set:\n",
    "\n",
    "````{prf:definition} Law of a random variable\n",
    ":label: uv:mt:distns:law\n",
    "Suppose the probability space $(\\Omega, \\mathcal F, \\mathbb P)$ and the measurable space $(S, \\Sigma)$, where $X \\in m(\\mathcal F, \\Sigma)$ is a random variable. Then the induced probability measure on $S$ by $X$, also known as the *law* of $X$, is the measure $\\mathcal L_X$ where for every $B \\in \\Sigma$:\n",
    "```{math}\n",
    "    \\mathcal L_X(B) &\\triangleq \\mathbb P\\left(\\{\\omega : X(\\omega) \\in B\\}\\right) \\\\\n",
    "    &\\equiv \\mathbb P\\left(X^{-1}(B)\\right) \\\\\n",
    "    &\\equiv \\mathbb P(X \\in B)\n",
    "```\n",
    "````\n",
    "The idea here is that we are, in some sense, finding which values of $\\Omega$ were mapped into $B$ by $X$ via $X^{-1}(B)$ (which must be a set $F \\in \\mathcal F$, by definition of a random variable), and then calculating the probability (via $\\mathbb P$) of this set. Since $\\mathbb P$ is a probability measure with respect to the measurable space $(\\Omega, \\mathcal F)$, this is a possible thing that we can do. We call this particular induced probability measure the *law* of $X$ because, as we will see shortly, it ascribes most of the behaviors about $X$ that we will care about.\n",
    "\n",
    "Let's consider this from another angle to describe what's going on here. First, we know that $X : \\Omega \\rightarrow S$; that is, $X$ is mapping elements of the event space to the codomain. $X^{-1} : \\Sigma \\rightarrow \\mathcal F$ (the definition of a $(\\mathcal F, \\Sigma)$-random variable) takes us from subsets of the codomain (elements of $\\Sigma$) to measurable subsets of the sample space (elements of $\\mathcal F$). We can then use $\\mathbb P$ to measure these measurable subsets of the sample space.\n",
    "\n",
    "In other words, using compositions, we could describe $\\mathcal L_X \\triangleq \\mathbb P \\circ X^{-1}$. $\\mathcal L_X$ represents the probability that under $X$, a draw from the event space $\\omega$ winds up in $B$. From the definition, it should be pretty clear that $\\mathcal L_X$ is a probability measure on the measurable space $(S, \\Sigma)$:\n",
    "\n",
    "````{prf:proposition} The law is a probability measure\n",
    ":label: uv:mt:distns:law_is_meas\n",
    "Suppose the probability space $(\\Omega, \\mathcal F, \\mathbb P)$ and the measurable space $(S, \\Sigma)$, where $X \\in m(\\mathcal F, \\Sigma)$ is a random variable, and $\\mathcal L_X = \\mathbb P\\circ X^{-1}$ is the law of $X$. $\\mathcal L_X$ is a probability measure on $(S, \\Sigma)$.\n",
    "````\n",
    "\n",
    "````{prf:proof}\n",
    "test\n",
    "````\n",
    "\n",
    "If the codomain is the measurable space $(\\mathbb R, \\mathcal R)$, we are ready to make a further claim about $\\mathcal L_X$ using the distribution function:\n",
    "\n",
    "````{prf:definition} Distribution function\n",
    ":label: uv:mt:distns:distn_fn\n",
    "Suppose that $(\\Omega, \\mathcal F, \\mathbb P)$ is a probability space, and the measurable space $(\\mathbb R, \\mathcal R)$, where $X \\in m(\\mathcal F, \\mathcal R)$ is a random variable with law $\\mathcal L_X$. The distribution function is:\n",
    "```{math}\n",
    "    F_X(c) \\triangleq \\mathcal L_X((-\\infty, c]) \\equiv \\mathbb P(X \\leq c) \\equiv \\mathbb P\\left(\\omega \\in \\Omega : X(\\omega) \\leq c\\right).\n",
    "```\n",
    "````\n",
    "\n",
    "As it turns out, the distribution function *fully determines* the law:\n",
    "\n",
    "````{prf:theorem} The distribution function fully determines the law of a random variable\n",
    ":label: uv:mt:distns:distn_fn_dets_law\n",
    "Suppose that $(\\Omega, \\mathcal F, \\mathbb P)$ is a probability space, and the measurable space $(\\mathbb R, \\mathcal R)$, where $X \\in m(\\mathcal F, \\mathcal R)$ is a random variable. Then $\\mathcal L_X$ is fully determined by the function $F_X : \\mathbb R \\rightarrow [0, 1]$.\n",
    "````\n",
    "````{prf:proof}\n",
    "Note that $\\mathcal P = \\left\\{(-\\infty, c] : c \\in \\mathbb R\\right\\}$ is a $\\pi$-system on $\\mathbb R$, where $\\sigma(\\mathcal P) = \\mathcal R$.\n",
    "\n",
    "Further, note that on $\\mathcal P$, that for any $c$, $\\mathcal L((-\\infty, c]) = F_X(c)$, by definition, so $\\mathcal L_X$ and $F_X$ agree on all of $\\mathcal P$.\n",
    "\n",
    "Then by {prf:ref}`uv:mt:prob_spaces:meas:unique`, $\\mathcal L_X = F_X$ on $\\sigma(\\mathcal P) = \\mathcal R$. \n",
    "````"
   ]
  }
 ],
 "metadata": {
  "kernelspec": {
   "display_name": "Python 3 (ipykernel)",
   "language": "python",
   "name": "python3"
  },
  "language_info": {
   "codemirror_mode": {
    "name": "ipython",
    "version": 3
   },
   "file_extension": ".py",
   "mimetype": "text/x-python",
   "name": "python",
   "nbconvert_exporter": "python",
   "pygments_lexer": "ipython3",
   "version": "3.8.9"
  }
 },
 "nbformat": 4,
 "nbformat_minor": 5
}
