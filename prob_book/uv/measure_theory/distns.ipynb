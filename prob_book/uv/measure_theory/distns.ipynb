{
 "cells": [
  {
   "cell_type": "markdown",
   "id": "distinguished-challenge",
   "metadata": {},
   "source": [
    "(uv:mt:distns)=\n",
    "\n",
    "# Distribution Functions\n",
    "\n",
    "So, now we have these concepts called random variables, which are really just measurable functions on a particular domain with respect to some codomain. We can perform all of the traditional mathematical operations with random variables, and still obtain random variables. So, where does the confusion come into play?"
   ]
  }
 ],
 "metadata": {
  "kernelspec": {
   "display_name": "Python 3 (ipykernel)",
   "language": "python",
   "name": "python3"
  },
  "language_info": {
   "codemirror_mode": {
    "name": "ipython",
    "version": 3
   },
   "file_extension": ".py",
   "mimetype": "text/x-python",
   "name": "python",
   "nbconvert_exporter": "python",
   "pygments_lexer": "ipython3",
   "version": "3.8.9"
  }
 },
 "nbformat": 4,
 "nbformat_minor": 5
}
