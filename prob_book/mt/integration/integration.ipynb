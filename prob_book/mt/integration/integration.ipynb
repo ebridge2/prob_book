{
 "cells": [
  {
   "cell_type": "markdown",
   "id": "alive-watts",
   "metadata": {},
   "source": [
    "(mt:int)=\n",
    "\n",
    "# Integration and Expectation\n",
    "\n",
    "One of the most fundamental operations that we will use throughout this book is integration. As you will see later in this book, integration serves, in many cases, as a unifying operation that we can use in many ways to characterize important aspects of random variables. In particular, as we develop many pieces of machinery that are crucial to probability, we won't really need to characterize anything about random variables directly; rather, we can deduce this machinery using only extremely general conditions on properties of their integrals.\n",
    "\n",
    "3. {ref}`mt:int:basics` introduces the concept of integration, one of the most essential operations we will want to use with our random variables through the book.\n",
    "4. {ref}`mt:int:props` introduces the properties of integrals, which will be paramount to our study of random variables later on.\n",
    "3. {ref}`mt:int:exp` introduces the concept of expectation, a special case of integration for a particular codomain and when the measure we are integration with respect to is a probability measure.\n",
    "5. {ref}`mt:int:prod_meas` introduces product measures, which allow us to extend these results to more than one random variable."
   ]
  }
 ],
 "metadata": {
  "kernelspec": {
   "display_name": "Python 3 (ipykernel)",
   "language": "python",
   "name": "python3"
  },
  "language_info": {
   "codemirror_mode": {
    "name": "ipython",
    "version": 3
   },
   "file_extension": ".py",
   "mimetype": "text/x-python",
   "name": "python",
   "nbconvert_exporter": "python",
   "pygments_lexer": "ipython3",
   "version": "3.8.9"
  }
 },
 "nbformat": 4,
 "nbformat_minor": 5
}
