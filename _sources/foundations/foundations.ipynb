{
 "cells": [
  {
   "cell_type": "markdown",
   "id": "opened-renaissance",
   "metadata": {},
   "source": [
    "(foundations)=\n",
    "\n",
    "# Foundations\n",
    "\n",
    "In this section, we're going to breeze over concepts and ideas that, ideally, you've been exposed to before giving this book a go. In general, this section is going to just borrow results from your real analysis class, which means that a lot of this stuff is going to be left largely unproven (we're going to take these results to be *true* within the scope of this book). Further, a lot of this material is going to be presented with little or no context, and it's going to be basically entirely definition, theorem, and lemma-driven.\n",
    "\n",
    "if you aren't familiar with the concepts that are left unproven, *stop immediately*! While it's great to be ambitious, trying to work up a more advanced treatment of mathematics like probability theory without having the requisite background in real analysis is like trying to be a doctor without taking a science class. The ambition is meritous, but it might be too big a slice of pie to chew off.\n",
    "\n",
    "For some other concepts, I think that the idea should be attainable to you with a real analysis class, but the particular result we'll use might not be a core concept touched on by every class. For these results, I'll give a fairly rigorous proof. You can use these proofs to gauge whether you are at a level of mathematical maturity required for this book; if the statements all make sense, and you are able to follow the logic of the proofs as-written, I think you are ready to learn probability theory. \n",
    "\n",
    "We'll have the following sections:\n",
    "\n",
    "1. {ref}`foundations:limits`, which provides some basic definitions regarding limits, which are a basic concept regarding what happens as sequences proceed off to infinity.\n",
    "2. {ref}`foundations:convergence_tests`, which covers convergence tests for sequences and series, and will be invaluable when we try to make proofs about sequences of random variables.\n",
    "3. {ref}`foundations:useful_results`, which covers many useful theorems and lemmas that will come up again and again in this book."
   ]
  }
 ],
 "metadata": {
  "kernelspec": {
   "display_name": "Python 3 (ipykernel)",
   "language": "python",
   "name": "python3"
  },
  "language_info": {
   "codemirror_mode": {
    "name": "ipython",
    "version": 3
   },
   "file_extension": ".py",
   "mimetype": "text/x-python",
   "name": "python",
   "nbconvert_exporter": "python",
   "pygments_lexer": "ipython3",
   "version": "3.8.9"
  }
 },
 "nbformat": 4,
 "nbformat_minor": 5
}
