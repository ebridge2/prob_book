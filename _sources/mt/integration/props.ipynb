{
 "cells": [
  {
   "cell_type": "markdown",
   "id": "colored-harris",
   "metadata": {},
   "source": [
    "(mt:int:props)=\n",
    "# Properties of Integration\n",
    "\n",
    "That last section was pretty neat stuff, eh? \n",
    "\n",
    "While this might seem like all we did was introduced a bunch of cumbersome notation to \"reinvent the wheel\" and give you back your Riemann integral from calculus, it turns out this is a lot more powerful than that stuff. In particular, you'll notice that we were *extremely* cautious every step of the way from the preceding chapters all the way to now regarding which assumptions different conditions hold under. These might seem like \"mindless details\" that you'd rather go without, but the brilliance of probability theory *is* the details. \n",
    "\n",
    "These properties that we are constructing, from the ground up, have been explicit about *every assumption* made along the way. As we build more and more results, we're going to keep that trend up, and all these assumptions and conditions are going to start making sense as you begin to see that extremely weak conditions might add up to a result that is beautiful. As you'll see in the next section, the concept of *expected value* in probability theory is *understood* as a special case of integration with respect to a *probability measure*, so while we're going to unfortunately burden you with some more properties of integrals, it will start to tie back to probability theory more directly next. "
   ]
  }
 ],
 "metadata": {
  "kernelspec": {
   "display_name": "Python 3 (ipykernel)",
   "language": "python",
   "name": "python3"
  },
  "language_info": {
   "codemirror_mode": {
    "name": "ipython",
    "version": 3
   },
   "file_extension": ".py",
   "mimetype": "text/x-python",
   "name": "python",
   "nbconvert_exporter": "python",
   "pygments_lexer": "ipython3",
   "version": "3.8.9"
  }
 },
 "nbformat": 4,
 "nbformat_minor": 5
}
