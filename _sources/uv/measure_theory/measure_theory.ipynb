{
 "cells": [
  {
   "cell_type": "markdown",
   "id": "friendly-saskatchewan",
   "metadata": {},
   "source": [
    "(uv:mt)=\n",
    "# Introduction to Measure Theory\n",
    "\n",
    "In this section, we'll start to get down in the weeds mathematically. In math, there's the (unfortunate or fortunate) reality that nearly everything is a special case of something else, in that almost any level of granularity you pick to write about a topic could be written made more generalizable (and therefore more applicable), or less generalizable (and therefore less applicable, but perhaps easier to understand). Here, we'll choose a layer of granularity that gets you into the weeds and is completely and mathematically unambiguous, but hopefully keeps things relatively understandable. We'll lay the ground work for random variables, which as you'll see, aren't scary objects with mythical properties: they are merely particularly defined functions with the same behavior as you've become used to in calculus courses. We have the following sections:\n",
    "1. {ref}`uv:mt:set_theory` introduces the basics of set theory, and classes of sets, that will be essential to understanding random variables. We will go over algebras and $\\sigma$-algebras, which will be the units upon which we build measures.\n",
    "1. {ref}`uv:mt:prob_spaces` introduces the concepts of measures and builds out probability spaces, which will be the ingredients that we use to define random variables. \n",
    "2. {ref}`uv:mt:rvs` introduce random variables, which are particular types of functions which have properties that allow us to ascribe the operations you are used to (addition, multiplication, extrema, limits, etc.).\n",
    "2. {ref}`uv:mt:distns` introduce the concept of a distribution function, which is a manner in which random variables are often described.\n",
    "3. {ref}`uv:mt:integration` introduces the concept of integration, one of the most essential operations we will want to use with our random variables through the book.\n",
    "4. {ref}`uv:mt:int_props` introduces the properties of integrals, which will be paramount to our study of random variables later on.\n",
    "5. {ref}`uv:mt:prod_meas` introduces product measures, "
   ]
  }
 ],
 "metadata": {
  "kernelspec": {
   "display_name": "Python 3 (ipykernel)",
   "language": "python",
   "name": "python3"
  },
  "language_info": {
   "codemirror_mode": {
    "name": "ipython",
    "version": 3
   },
   "file_extension": ".py",
   "mimetype": "text/x-python",
   "name": "python",
   "nbconvert_exporter": "python",
   "pygments_lexer": "ipython3",
   "version": "3.8.9"
  }
 },
 "nbformat": 4,
 "nbformat_minor": 5
}
